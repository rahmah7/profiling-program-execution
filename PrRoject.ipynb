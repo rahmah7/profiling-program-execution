# استيراد المكتبات اللازمة
import cProfile
import pstats
import fractal  # المكتبة التي تم تنزيلها

# وظيفة تقوم بتشغيل البرنامج الأساسي
def run_fractal():
    # مثال على تنفيذ أحد أجزاء مكتبة Fractal
    fractal.main()  # استبدل هذا بمسار الدالة الرئيسية المراد تحليلها

# إنشاء أداة لتحليل الأداء
def profile_fractal():
    profiler = cProfile.Profile()
    profiler.enable()  # بدء التحليل

    # تشغيل الكود الذي نرغب في تحليله
    run_fractal()

    profiler.disable()  # إنهاء التحليل

    # حفظ النتائج في ملف لتسهيل قراءتها لاحقًا
    with open("fractal_profile.txt", "w") as f:
        ps = pstats.Stats(profiler, stream=f)
        ps.strip_dirs()
        ps.sort_stats('cumulative')  # ترتيب النتائج بناءً على الوقت الإجمالي
        ps.print_stats()

    # عرض النتائج في الكونسول
    ps = pstats.Stats(profiler)
    ps.strip_dirs()
    ps.sort_stats('cumulative')
    ps.print_stats(10)  # طباعة أهم 10 دوال

# تشغيل التحليل
if __name__ == "__main__":
    print("بدء تحليل الأداء...")
    profile_fractal()
    print("تم تحليل الأداء وحفظ النتائج في fractal_profile.txt")
